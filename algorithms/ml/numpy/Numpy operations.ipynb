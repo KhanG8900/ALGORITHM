{
 "cells": [
  {
   "cell_type": "markdown",
   "metadata": {},
   "source": [
    "# NUMPY\n",
    "\n",
    "Numpy is an important python library which is used for implementing  the operation on multi-dimensional arrays and it has a large collection of high level mathematical operations to be used on arrays and matrices as well.\n",
    "\n",
    "#Why do we use Numpy?\n",
    "Python lists and arrays are slow.\n",
    "Python is not very compact.\n",
    "Python is slower than C and C++\n",
    "Numpy has the same elements in the compact form.\n",
    "Numpy is mostly written in C,so it is comparitively faster."
   ]
  },
  {
   "cell_type": "code",
   "execution_count": 3,
   "metadata": {},
   "outputs": [
    {
     "name": "stdout",
     "output_type": "stream",
     "text": [
      " Enter the Number Of Rows and Columns \n",
      "2 3\n",
      "Row =  2\n",
      "Column =  3\n",
      "\n",
      "Enter the Values \n",
      "1 2 3 4 5 6\n"
     ]
    },
    {
     "data": {
      "text/plain": [
       "[[1, 2, 3], [4, 5, 6]]"
      ]
     },
     "execution_count": 3,
     "metadata": {},
     "output_type": "execute_result"
    }
   ],
   "source": [
    "# Taking multi-dimensional array as the input\n",
    "print(\" Enter the Number Of Rows and Columns \")\n",
    "a = [int(i) for i in input().strip().split(\" \")]\n",
    "n = a[0]\n",
    "m = a[1]\n",
    "print(\"Row = \",n)\n",
    "print(\"Column = \",m)\n",
    "print()\n",
    "print(\"Enter the Values \")\n",
    "b = [int(i) for i in input().strip().split(\" \")]\n",
    "\n",
    "out = [[b[i*m +j] for j in range(m)]for i in range(n)]\n",
    "out"
   ]
  },
  {
   "cell_type": "code",
   "execution_count": 5,
   "metadata": {},
   "outputs": [],
   "source": [
    "#importing Modules \n",
    "\n",
    "import numpy as np \n"
   ]
  },
  {
   "cell_type": "code",
   "execution_count": 6,
   "metadata": {},
   "outputs": [
    {
     "name": "stdout",
     "output_type": "stream",
     "text": [
      "l = [1, 2, 3, 4, 5]\n",
      "Numpy array=  [1 2 3 4 5]\n",
      "Float numpy = [1.   2.   3.14]\n",
      "Numpy array having a string Value = ['1' '2' '3' 'str']\n",
      "The List l4 =  [1, 2, 3, 'str', 1, 2, 3.14, 1, 2, 3, 4, 5]\n",
      "Float numpy = ['1' '2' '3' 'str' '1' '2' '3.14' '1' '2' '3' '4' '5']\n"
     ]
    }
   ],
   "source": [
    "l = [1,2,3,4,5]\n",
    "print(\"l =\",l)\n",
    "print(\"Numpy array= \",np.array(l))\n",
    "\n",
    "l1 = [1,2,3.14]  #All Elememts Will be converted Into Float \n",
    "print(\"Float numpy =\", np.array(l1))\n",
    "\n",
    "l3 = [1,2,3,'str']\n",
    "print(\"Numpy array having a string Value =\", np.array(l3)) #All elements will be converted into strings \n",
    "\n",
    "l4 = list(l3)\n",
    "l4.extend(l1)\n",
    "l4.extend(l)\n",
    "print(\"The List l4 = \", l4)\n",
    "print(\"Float numpy =\", np.array(l4)) #Top = 1.String   2. Float   3. Integer "
   ]
  },
  {
   "cell_type": "code",
   "execution_count": 7,
   "metadata": {},
   "outputs": [
    {
     "name": "stdout",
     "output_type": "stream",
     "text": [
      "[0. 0. 0. 0. 0. 0. 0. 0. 0. 0.]\n",
      "[1. 1. 1. 1. 1.]\n",
      "float64\n",
      "float64\n"
     ]
    }
   ],
   "source": [
    "a = np.zeros(10) #ShortCut to print 10 zeros \n",
    "print(a)\n",
    "b = np.ones(5) #ShortCut to print 10 ones \n",
    "print(b)\n",
    "\n",
    "print(a.dtype)\n",
    "print(b.dtype)"
   ]
  },
  {
   "cell_type": "code",
   "execution_count": 8,
   "metadata": {},
   "outputs": [
    {
     "name": "stdout",
     "output_type": "stream",
     "text": [
      "int32\n",
      "<U1\n"
     ]
    }
   ],
   "source": [
    "a = np.zeros(10,int)\n",
    "b = np.ones(5,str)\n",
    "print(a.dtype)\n",
    "print(b.dtype)"
   ]
  },
  {
   "cell_type": "code",
   "execution_count": 9,
   "metadata": {},
   "outputs": [
    {
     "name": "stdout",
     "output_type": "stream",
     "text": [
      "2-D List\n",
      "[[0. 0. 0.]\n",
      " [0. 0. 0.]]\n",
      "\n",
      "3-d List\n",
      "[[[0 0]\n",
      "  [0 0]\n",
      "  [0 0]]\n",
      "\n",
      " [[0 0]\n",
      "  [0 0]\n",
      "  [0 0]]\n",
      "\n",
      " [[0 0]\n",
      "  [0 0]\n",
      "  [0 0]]\n",
      "\n",
      " [[0 0]\n",
      "  [0 0]\n",
      "  [0 0]]]\n"
     ]
    }
   ],
   "source": [
    "#2-D List Using Numpy \n",
    "print(\"2-D List\")\n",
    "a = np.zeros((2,3))\n",
    "print(a)\n",
    "print()\n",
    "print(\"3-d List\")\n",
    "b = np.zeros((4,3,2),int)\n",
    "print(b)"
   ]
  },
  {
   "cell_type": "code",
   "execution_count": 10,
   "metadata": {},
   "outputs": [
    {
     "name": "stdout",
     "output_type": "stream",
     "text": [
      "[0 0 0 0 0 0 0 0 0 0]\n",
      "[0 0 1 0 0 0 0 0 0 0]\n",
      "[0 0 1 4 0 0 0 0 0 0]\n"
     ]
    }
   ],
   "source": [
    "b = np.zeros(10,int)\n",
    "print(b)\n",
    "b[2] = 1\n",
    "print(b)\n",
    "\n",
    "b[3] = '4'\n",
    "print(b)\n",
    "\n",
    "#b[5] = 's' #ValueError: invalid literal for int() with base 10: 'str'\n"
   ]
  },
  {
   "cell_type": "code",
   "execution_count": 11,
   "metadata": {},
   "outputs": [
    {
     "name": "stdout",
     "output_type": "stream",
     "text": [
      "[[[0 0]\n",
      "  [0 0]\n",
      "  [0 0]]\n",
      "\n",
      " [[0 0]\n",
      "  [0 0]\n",
      "  [0 0]]\n",
      "\n",
      " [[0 0]\n",
      "  [0 0]\n",
      "  [0 0]]\n",
      "\n",
      " [[0 0]\n",
      "  [0 0]\n",
      "  [0 0]]]\n",
      "\n",
      "[[0 0]\n",
      " [0 0]\n",
      " [0 0]]\n",
      "\n",
      "[0 0]\n",
      "\n",
      "0\n"
     ]
    }
   ],
   "source": [
    "a = np.zeros((4,3,2),int)\n",
    "print(a)\n",
    "print()\n",
    "print(a[2])\n",
    "print()\n",
    "print(a[2][1])\n",
    "print()\n",
    "print(a[2][1][0])"
   ]
  },
  {
   "cell_type": "code",
   "execution_count": 12,
   "metadata": {},
   "outputs": [
    {
     "name": "stdout",
     "output_type": "stream",
     "text": [
      "[0. 0. 0. 0.]\n",
      "(15,)\n",
      "(3, 4)\n",
      "[[1 1 1 1]\n",
      " [1 1 1 1]\n",
      " [1 1 1 1]]\n",
      "\n",
      "[[1 2 3]\n",
      " [4 5 6]]\n",
      "\n",
      "[1 4]\n",
      "\n",
      "[[ 1  2  3]\n",
      " [ 4  5  6]\n",
      " [11 12 13]\n",
      " [14 15 16]]\n",
      "[ 2  5 12 15]\n",
      "\n",
      "[[1 2]\n",
      " [4 5]]\n",
      "\n",
      "[[ 2  3]\n",
      " [ 5  6]\n",
      " [12 13]]\n",
      "\n"
     ]
    }
   ],
   "source": [
    "#Slicing \n",
    "\n",
    "a = np.zeros(15)  \n",
    "print(a[2 : 6])\n",
    "\n",
    "print(a.shape)  #a.shape() tells the size of array \n",
    "b = np.ones((3,4),int) #shape() returns a tuple\n",
    "print(b.shape)\n",
    "print(b)\n",
    "\n",
    "a = np.array([[1,2,3],[4,5,6]])\n",
    "print()\n",
    "print(a)\n",
    "print()\n",
    "print(a[ : ,0])\n",
    "print()\n",
    "b =  np.array([[1,2,3],[4,5,6],[11,12,13],[14,15,16]])\n",
    "print(b)\n",
    "print(b[ : ,1])\n",
    "print()\n",
    "print(b[0:2,0:2])\n",
    "print()\n",
    "print(b[0:3,1:3])\n",
    "print()\n",
    "c = np.ones((5,5),int)\n",
    "\n",
    "\n",
    "\n",
    "\n",
    "\n",
    "\n",
    "\n",
    "#c = np.array[[1,2,3,],[4,5,6]] #TypeError: 'builtin_function_or_method' object is not subscriptable\n",
    "#print(c.shape)\n",
    "\n"
   ]
  },
  {
   "cell_type": "code",
   "execution_count": 13,
   "metadata": {},
   "outputs": [
    {
     "name": "stdout",
     "output_type": "stream",
     "text": [
      "[[1 2 3 4 5]\n",
      " [6 7 8 9 0]\n",
      " [0 9 8 7 6]\n",
      " [5 4 3 2 1]]\n",
      "\n",
      "[[7 8 9]\n",
      " [9 8 7]]\n",
      "\n",
      "[[1 2]\n",
      " [6 7]\n",
      " [0 9]\n",
      " [5 4]]\n"
     ]
    }
   ],
   "source": [
    "b = np.array([[1,2,3,4,5],[6,7,8,9,0],[0,9,8,7,6],[5,4,3,2,1]])\n",
    "print(b)\n",
    "print()\n",
    "print(b[1:3,1:4])\n",
    "print()\n",
    "print(b[ : , :2])"
   ]
  },
  {
   "cell_type": "code",
   "execution_count": 16,
   "metadata": {},
   "outputs": [
    {
     "name": "stdout",
     "output_type": "stream",
     "text": [
      "[0 1 2 3 4 5 6 7 8 9]\n"
     ]
    },
    {
     "data": {
      "text/plain": [
       "array([ 0,  1,  2,  3,  4,  5,  6,  7,  8,  9, 10, 11, 12, 13, 14, 15, 16,\n",
       "       17, 18, 19, 20, 21, 22, 23, 24, 25, 26, 27, 28, 29, 30, 31, 32, 33,\n",
       "       34, 35, 36, 37, 38, 39, 40, 41, 42, 43, 44, 45, 46, 47, 48, 49, 50,\n",
       "       51, 52, 53, 54, 55, 56, 57, 58, 59, 60, 61, 62, 63, 64, 65, 66, 67,\n",
       "       68, 69, 70, 71, 72, 73, 74, 75, 76, 77, 78, 79, 80, 81, 82, 83, 84,\n",
       "       85, 86, 87, 88, 89, 90, 91, 92, 93, 94, 95, 96, 97, 98, 99])"
      ]
     },
     "execution_count": 16,
     "metadata": {},
     "output_type": "execute_result"
    }
   ],
   "source": [
    "print(np.arange(10))\n",
    "print(np.arange(100))"
   ]
  },
  {
   "cell_type": "code",
   "execution_count": 17,
   "metadata": {},
   "outputs": [
    {
     "name": "stdout",
     "output_type": "stream",
     "text": [
      "(5,)\n",
      "(2, 3)\n"
     ]
    },
    {
     "data": {
      "text/plain": [
       "(4,)"
      ]
     },
     "execution_count": 17,
     "metadata": {},
     "output_type": "execute_result"
    }
   ],
   "source": [
    "a = np.zeros(5)\n",
    "print(a.shape)\n",
    "b = np.zeros((2,3),int)\n",
    "print(b.shape)\n",
    "a = np.array([0, 1, 2, 3])\n",
    "a.shape"
   ]
  },
  {
   "cell_type": "code",
   "execution_count": 19,
   "metadata": {},
   "outputs": [
    {
     "name": "stdout",
     "output_type": "stream",
     "text": [
      "[3 4 5 6]\n",
      "[ 4  6  8 10]\n",
      "[2 4 6 8]\n",
      "[ 3  8 15 24]\n",
      "[   1   16  243 4096]\n",
      "[ 1  4  9 16]\n"
     ]
    }
   ],
   "source": [
    "# some numpy operations\n",
    "a = np.array([1,2,3,4])\n",
    "b = np.array([3,4,5,6])\n",
    "print(a+2)\n",
    "print(a + b)\n",
    "print(a *2)\n",
    "print(a * b)\n",
    "print(a**b)\n",
    "print(a ** 2)"
   ]
  },
  {
   "cell_type": "code",
   "execution_count": 20,
   "metadata": {},
   "outputs": [
    {
     "name": "stdout",
     "output_type": "stream",
     "text": [
      "28\n",
      "3.5\n"
     ]
    }
   ],
   "source": [
    "c = np.array([3,4,5,6,1,2,3,4])\n",
    "print(c.sum())\n",
    "print(c.mean())"
   ]
  },
  {
   "cell_type": "code",
   "execution_count": 21,
   "metadata": {},
   "outputs": [
    {
     "name": "stdout",
     "output_type": "stream",
     "text": [
      "[ 0  1  4  9 16 25 36 49 64 81]\n",
      "\n",
      "[[ 0  1]\n",
      " [ 4  9]\n",
      " [16 25]\n",
      " [36 49]\n",
      " [64 81]]\n"
     ]
    }
   ],
   "source": [
    "a = np.array([i*i for i in range(10)])\n",
    "print(a)\n",
    "print()\n",
    "n = 5\n",
    "m = 2\n",
    "# printing the multi-dimensional array where n represents rows and m represents columns\n",
    "out = [[a[i*m + j]for j in range(m)]for i in range(n)]\n",
    "c = np.array(out)\n",
    "print(c)"
   ]
  },
  {
   "cell_type": "code",
   "execution_count": 23,
   "metadata": {},
   "outputs": [],
   "source": [
    "import math"
   ]
  },
  {
   "cell_type": "code",
   "execution_count": 33,
   "metadata": {},
   "outputs": [
    {
     "name": "stdout",
     "output_type": "stream",
     "text": [
      "3 4 5\n",
      "[3 4 5]\n",
      "\n",
      "2.0\n"
     ]
    }
   ],
   "source": [
    "x = np.array([ int(i) for i in input().strip().split(\" \")])\n",
    "print(x)\n",
    "x_mean = x.mean()\n",
    "print()\n",
    "ans = ((x - x_mean) **2).sum()\n",
    "print(ans)\n"
   ]
  },
  {
   "cell_type": "code",
   "execution_count": 34,
   "metadata": {},
   "outputs": [
    {
     "name": "stdout",
     "output_type": "stream",
     "text": [
      "[[ 70 100]\n",
      " [150 220]]\n",
      "[[ 7 10]\n",
      " [15 22]]\n",
      "[[ 70 100]\n",
      " [150 220]]\n",
      "[[ 700 1000]\n",
      " [1500 2200]]\n"
     ]
    }
   ],
   "source": [
    "# printing the dot product\n",
    "a1 = np.array([[1,2],[3,4]])\n",
    "a2 = np.array([[10,20],[30,40]])\n",
    "\n",
    "print(a1.dot(a2))\n",
    "print(a1.dot(a1))\n",
    "print(a2.dot(a1))\n",
    "print(a2.dot(a2))"
   ]
  },
  {
   "cell_type": "code",
   "execution_count": 42,
   "metadata": {},
   "outputs": [
    {
     "name": "stdout",
     "output_type": "stream",
     "text": [
      "(2, 3) (3, 2)\n",
      "[[12 21]\n",
      " [30 51]]\n"
     ]
    }
   ],
   "source": [
    "a1 = np.mat([[1,2,3],[4,5,6]])\n",
    "a2 = np.mat([[1,2],[4,5],[1,3]])\n",
    "print(a1.shape,a2.shape)\n",
    "print(a1 * a2)\n"
   ]
  },
  {
   "cell_type": "code",
   "execution_count": 38,
   "metadata": {},
   "outputs": [
    {
     "name": "stdout",
     "output_type": "stream",
     "text": [
      "[[1 2 3]\n",
      " [4 5 6]]\n",
      "[[1 2]\n",
      " [4 5]\n",
      " [1 3]]\n"
     ]
    }
   ],
   "source": [
    "print(a1)\n",
    "print(a2)"
   ]
  },
  {
   "cell_type": "code",
   "execution_count": 39,
   "metadata": {},
   "outputs": [
    {
     "data": {
      "text/plain": [
       "(2, 3)"
      ]
     },
     "execution_count": 39,
     "metadata": {},
     "output_type": "execute_result"
    }
   ],
   "source": [
    "a = np.matrix('1 2 4; 3 4 5')\n",
    "a.shape\n"
   ]
  },
  {
   "cell_type": "code",
   "execution_count": 40,
   "metadata": {},
   "outputs": [
    {
     "name": "stdout",
     "output_type": "stream",
     "text": [
      "41\n",
      "[1 5]\n"
     ]
    }
   ],
   "source": [
    "a = np.sum([[0, 1], [0, 5],[20,15]])\n",
    "print(a)\n",
    "b = np.sum([[0, 1], [0, 5]], axis=1)\n",
    "print(b)"
   ]
  }
 ],
 "metadata": {
  "kernelspec": {
   "display_name": "Python 3",
   "language": "python",
   "name": "python3"
  },
  "language_info": {
   "codemirror_mode": {
    "name": "ipython",
    "version": 3
   },
   "file_extension": ".py",
   "mimetype": "text/x-python",
   "name": "python",
   "nbconvert_exporter": "python",
   "pygments_lexer": "ipython3",
   "version": "3.7.3"
  }
 },
 "nbformat": 4,
 "nbformat_minor": 2
}
