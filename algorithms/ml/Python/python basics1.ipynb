{
 "cells": [
  {
   "cell_type": "markdown",
   "source": [
    "To start with Machine learning,we need to be good with basic concepts of python.\n",
    "So let's start from scratch."
   ],
   "metadata": {}
  },
  {
   "cell_type": "code",
   "execution_count": 1,
   "source": [
    "# let's have some integer values in our variables\r\n",
    "a = 22\r\n",
    "b = 12\r\n",
    "c = 15\r\n",
    "d = 18 \r\n",
    "e = 56\r\n",
    "# print function simply print the value given in the variable\r\n",
    "print(a)\r\n",
    "print(b)\r\n",
    "print(c)\r\n",
    "print(d)\r\n",
    "print(d)\r\n",
    "print(e)\r\n",
    "print()\r\n",
    "# end = \"\" tells that we want to print the next output within the same line and whatever(':' in this case) we want between the intergers is written between the \" \"\r\n",
    "# As you can see in example below a and a value is printed together due to end = \":\"\r\n",
    "print(a,end=\":\")\r\n",
    "print(a,b,c,end=\",\")\r\n",
    "print(d,end=\":::\")"
   ],
   "outputs": [
    {
     "output_type": "stream",
     "name": "stdout",
     "text": [
      "22\n",
      "12\n",
      "15\n",
      "18\n",
      "18\n",
      "56\n",
      "\n",
      "22:22 12 15,18:::"
     ]
    }
   ],
   "metadata": {}
  },
  {
   "cell_type": "code",
   "execution_count": 45,
   "source": [
    "# we can have string in the variable which is written with double quotes\r\n",
    "a = \"Nasreen\"\r\n",
    "# we can have complex values as a string\r\n",
    "b = \"3+2j\"\r\n",
    "# we can have float values as a string\r\n",
    "c = \"20.555\"\r\n",
    "d = \"13.99\"\r\n",
    "e = \"17\"\r\n",
    "# here type returns the type of the variable(string,float,int etc)\r\n",
    "print(\"Nasreen\",type(a))\r\n",
    "print(type(b))\r\n",
    "print(type(c))\r\n",
    "print(type(d))\r\n",
    "print(type(e))\r\n"
   ],
   "outputs": [
    {
     "output_type": "stream",
     "name": "stdout",
     "text": [
      "Nasreen <class 'str'>\n",
      "<class 'str'>\n",
      "<class 'str'>\n",
      "<class 'str'>\n",
      "<class 'str'>\n"
     ]
    }
   ],
   "metadata": {}
  },
  {
   "cell_type": "code",
   "execution_count": 23,
   "source": [
    "# let's start with operators\r\n",
    "a = 50\r\n",
    "b = 40\r\n",
    "print(\"a+b=\",a+b)\r\n",
    "print(\"a-b=\",a-b)\r\n",
    "print(\"aXb=\",a*b)\r\n",
    "print(\"a/b=\",a/b)\r\n",
    "print(\"a//b(floor function)=\",a//b)\r\n",
    "print(\"a**b=\",a**b)\r\n",
    "print(\"a%b(remainder)=\",a%b)"
   ],
   "outputs": [
    {
     "output_type": "stream",
     "name": "stdout",
     "text": [
      "a+b= 90\n",
      "a-b= 10\n",
      "aXb= 2000\n",
      "a/b= 1.25\n",
      "a//b(floor function)= 1\n",
      "a**b= 90949470177292823791503906250000000000000000000000000000000000000000\n",
      "a%b(remainder)= 10\n"
     ]
    }
   ],
   "metadata": {}
  },
  {
   "cell_type": "code",
   "execution_count": 6,
   "source": [
    "# Concatenated strings\r\n",
    "a = \"ABC\"\r\n",
    "b = \"abc\"\r\n",
    "c = \"It is a very rainy day\"\r\n",
    "d = a+b\r\n",
    "print(d)\r\n",
    "print(a,end= \"+\")\r\n",
    "print(b)\r\n",
    "print(a,b,c)\r\n",
    "print(a  ,end = \",\")\r\n",
    "print(b  ,end = \",\")\r\n",
    "print(c)\r\n",
    "print(a+   \",\"   +b+   \",\"  +c)\r\n",
    "print(type(a))\r\n"
   ],
   "outputs": [
    {
     "output_type": "stream",
     "name": "stdout",
     "text": [
      "ABCabc\n",
      "ABC+abc\n",
      "ABC abc It is a very rainy day\n",
      "ABC,abc,It is a very rainy day\n",
      "ABC,abc,It is a very rainy day\n",
      "<class 'str'>\n"
     ]
    }
   ],
   "metadata": {}
  },
  {
   "cell_type": "code",
   "execution_count": 46,
   "source": [
    "# even if we are putting integer as the value,it will be taken as string\r\n",
    "L = \"2\"\r\n",
    "print(type(L))"
   ],
   "outputs": [
    {
     "output_type": "stream",
     "name": "stdout",
     "text": [
      "<class 'str'>\n"
     ]
    }
   ],
   "metadata": {}
  },
  {
   "cell_type": "code",
   "execution_count": 7,
   "source": [
    "var = \"abc\"\r\n",
    "# .upper() is used to get the uppercase and .lower() is used to get the lowercase\r\n",
    "print(var.upper())\r\n",
    "print(var)\r\n",
    "\r\n",
    "\r\n",
    "print(\"winter\".upper())\r\n",
    "print(var.lower())\r\n",
    "# isalpha checks if there is alphabet in the variable and therefore returns True\r\n",
    "g = \"daj34\"\r\n",
    "print(g.isalpha())\r\n",
    "num =\"fgh\"\r\n",
    "print(num.isalpha())"
   ],
   "outputs": [
    {
     "output_type": "stream",
     "name": "stdout",
     "text": [
      "ABC\n",
      "abc\n",
      "WINTER\n",
      "abc\n",
      "False\n",
      "True\n"
     ]
    }
   ],
   "metadata": {}
  },
  {
   "cell_type": "code",
   "execution_count": 74,
   "source": [
    "a = \"  ab c def  \"\r\n",
    "# strip is used to remove the space if there is any in front and end of the string\r\n",
    "print(a.strip())\r\n",
    "c = a.strip()\r\n",
    "print(\"a.split()=\",c)\r\n",
    "print(a)\r\n",
    "\r\n",
    "# isdigit checks if there are only digits in the variable\r\n",
    "print(\"123\".isdigit())\r\n",
    "e = '123abc'\r\n",
    "print(e.isdigit())"
   ],
   "outputs": [
    {
     "output_type": "stream",
     "name": "stdout",
     "text": [
      "ab c def\n",
      "a.split()= ab c def\n",
      "  ab c def  \n",
      "\n",
      "True\n",
      "False\n"
     ]
    }
   ],
   "metadata": {}
  },
  {
   "cell_type": "code",
   "execution_count": 7,
   "source": [
    "# Taking the input from the user\r\n",
    "print(\"Enter your name :\")\r\n",
    "# int is used to convert the input taken into the integer\r\n",
    "a = int(input())\r\n",
    "print(type(a))"
   ],
   "outputs": [
    {
     "output_type": "stream",
     "name": "stdout",
     "text": [
      "Enter your name :\n",
      "2\n",
      "<class 'int'>\n"
     ]
    }
   ],
   "metadata": {}
  },
  {
   "cell_type": "code",
   "execution_count": 11,
   "source": [
    "print(\"Enter your dog name\" ,end = \":\")\r\n",
    "a = float(input())\r\n",
    "print(type(a))\r\n"
   ],
   "outputs": [
    {
     "output_type": "stream",
     "name": "stdout",
     "text": [
      "Enter your dog name:45.6\n",
      "<class 'float'>\n"
     ]
    }
   ],
   "metadata": {}
  },
  {
   "cell_type": "code",
   "execution_count": 15,
   "source": [
    "print(\"Enter an integer\" ,end =\":\")\r\n",
    "b = int(input())\r\n",
    "print(type(b))"
   ],
   "outputs": [
    {
     "output_type": "stream",
     "name": "stdout",
     "text": [
      "Enter an integer:23\n",
      "<class 'int'>\n"
     ]
    }
   ],
   "metadata": {}
  },
  {
   "cell_type": "code",
   "execution_count": 24,
   "source": [
    "print(\"Enter an integer\" ,end =\":\")\r\n",
    "c = str(input())\r\n",
    "print(type(c))"
   ],
   "outputs": [
    {
     "output_type": "stream",
     "name": "stdout",
     "text": [
      "Enetr an integer:23\n",
      "<class 'str'>\n"
     ]
    }
   ],
   "metadata": {}
  },
  {
   "cell_type": "code",
   "execution_count": 48,
   "source": [
    "# Slicing\r\n",
    "a = \"I need money\"\r\n",
    "# len(a) returns the length of a\r\n",
    "print(len(a))\r\n",
    "# indexing starts from zero.So,slicing from 0 to 6 return the alphabets from 0 to 5th position counting space as well\r\n",
    "print(a[0:6])\r\n",
    "print(a[ :5 ])\r\n",
    "# Negative indexing starts from right side and it starts from -1,not 0,including the last number given(-7 in this case)\r\n",
    "print(a[-7 :-2])\r\n"
   ],
   "outputs": [
    {
     "output_type": "stream",
     "name": "stdout",
     "text": [
      "12\n",
      "I need\n",
      "I nee\n",
      "d mon\n"
     ]
    }
   ],
   "metadata": {}
  },
  {
   "cell_type": "code",
   "execution_count": 50,
   "source": [
    "# concatenate two strings\r\n",
    "a = \"bonu\"\r\n",
    "a = a + \"piku\"\r\n",
    "a"
   ],
   "outputs": [
    {
     "output_type": "execute_result",
     "data": {
      "text/plain": [
       "'bonupiku'"
      ]
     },
     "metadata": {},
     "execution_count": 50
    }
   ],
   "metadata": {}
  },
  {
   "cell_type": "code",
   "execution_count": 1,
   "source": [
    "# tuple can ave different types of elements \r\n",
    "a = (\"monkey\",\"1.9\",\"1,2,3\")\r\n",
    "print(a)\r\n",
    "print(type(a))"
   ],
   "outputs": [
    {
     "output_type": "stream",
     "name": "stdout",
     "text": [
      "('monkey', '1.9', '1,2,3')\n",
      "<class 'tuple'>\n"
     ]
    }
   ],
   "metadata": {}
  },
  {
   "cell_type": "code",
   "execution_count": 57,
   "source": [
    "a = '  1  2 367'\r\n",
    "print(type(a))"
   ],
   "outputs": [
    {
     "output_type": "stream",
     "name": "stdout",
     "text": [
      "<class 'str'>\n"
     ]
    }
   ],
   "metadata": {}
  },
  {
   "cell_type": "code",
   "execution_count": 16,
   "source": [
    "# boolean type\r\n",
    "a = True\r\n",
    "b = False\r\n",
    "print(type(a))\r\n",
    "print(type(b))\r\n",
    "c = 2\r\n",
    "d = 20\r\n",
    "print(c>d)\r\n",
    "print(c<=d)\r\n",
    "print(c==d)\r\n",
    "print(c!=d)\r\n",
    "print(True and False)\r\n",
    "print(True or True)\r\n",
    "print(False or False)"
   ],
   "outputs": [
    {
     "output_type": "stream",
     "name": "stdout",
     "text": [
      "<class 'bool'>\n",
      "<class 'bool'>\n",
      "False\n",
      "True\n",
      "False\n",
      "True\n",
      "False\n",
      "True\n",
      "False\n"
     ]
    }
   ],
   "metadata": {}
  },
  {
   "cell_type": "code",
   "execution_count": 19,
   "source": [
    "a = 20\r\n",
    "b = 30\r\n",
    "if a<b :\r\n",
    "    print(\"Yes\")\r\n",
    "elif a==b :\r\n",
    "    print(\"Good\")\r\n",
    "else :\r\n",
    "    print(\"Done\")"
   ],
   "outputs": [
    {
     "output_type": "stream",
     "name": "stdout",
     "text": [
      "Yes\n"
     ]
    }
   ],
   "metadata": {}
  },
  {
   "cell_type": "code",
   "execution_count": 2,
   "source": [
    "# working of a simple while loop\r\n",
    "n = int(input())\r\n",
    "i =2\r\n",
    "while i>=n :\r\n",
    "     print(\"Greater\")\r\n",
    "     i = i-1"
   ],
   "outputs": [
    {
     "output_type": "stream",
     "name": "stdout",
     "text": [
      "-8\n",
      "Greater\n",
      "Greater\n",
      "Greater\n",
      "Greater\n",
      "Greater\n",
      "Greater\n",
      "Greater\n",
      "Greater\n",
      "Greater\n",
      "Greater\n",
      "Greater\n"
     ]
    }
   ],
   "metadata": {}
  },
  {
   "cell_type": "code",
   "execution_count": 5,
   "source": [
    "# if and while loops\r\n",
    "n = int(input())\r\n",
    "i = int(input())\r\n",
    "print(\"n=\" ,n,\"i=\",i)\r\n",
    "\r\n",
    "it will run till the while condition becomes false(when i>n)\r\n",
    "if n>i :\r\n",
    "    while n >=i :\r\n",
    "        print(\"All ok!\")\r\n",
    "        n = n-1\r\n",
    "        \r\n",
    "elif n ==i:\r\n",
    "    print(\"All are equal\")\r\n",
    "else:\r\n",
    "    while i>n :\r\n",
    "        print(\"All not ok!\")\r\n",
    "        i = i-1"
   ],
   "outputs": [
    {
     "output_type": "stream",
     "name": "stdout",
     "text": [
      "5\n",
      "1\n",
      "n= 5 i= 1\n",
      "All ok!\n",
      "All ok!\n",
      "All ok!\n",
      "All ok!\n",
      "All ok!\n"
     ]
    }
   ],
   "metadata": {}
  },
  {
   "cell_type": "code",
   "execution_count": 8,
   "source": [
    "# Range function\r\n",
    "# 0 is start,15 is the ned of the range and 2 is the gap \r\n",
    "for i in range(0,15,2):\r\n",
    "    print(i,end=\"-->\")"
   ],
   "outputs": [
    {
     "output_type": "stream",
     "name": "stdout",
     "text": [
      "0-->2-->4-->6-->8-->10-->12-->14-->"
     ]
    }
   ],
   "metadata": {}
  },
  {
   "cell_type": "code",
   "execution_count": 10,
   "source": [
    "# we can also use range and it will return the same output as while loop\r\n",
    "i = 1\r\n",
    "j = 10\r\n",
    "while i<=j :\r\n",
    "    print(i,end=\",\")\r\n",
    "    i = i+1\r\n",
    "print()\r\n",
    "print(\"While Loop Done\")\r\n",
    "print()\r\n",
    "# Note that range only prints the value 1 lesser than the last value given(11 in this case,that's why it prints only till 10)\r\n",
    "for i in range(1,11) :\r\n",
    "    print(i,end=\",\")\r\n",
    "print()\r\n",
    "print(\"For loop done\")\r\n",
    "    "
   ],
   "outputs": [
    {
     "output_type": "stream",
     "name": "stdout",
     "text": [
      "1,2,3,4,5,6,7,8,9,10,\n",
      "While Loop Done\n",
      "\n",
      "1,2,3,4,5,6,7,8,9,10,\n",
      "For loop done\n"
     ]
    }
   ],
   "metadata": {}
  },
  {
   "cell_type": "code",
   "execution_count": 25,
   "source": [
    "s =\"abcdefg\"\r\n",
    "# b represents each number of element in a\r\n",
    "for b in s:\r\n",
    "    print(b,end=\" \")\r\n",
    "print()\r\n",
    "d = \"1234578\"\r\n",
    "for i in d :\r\n",
    "    print(i)"
   ],
   "outputs": [
    {
     "output_type": "stream",
     "name": "stdout",
     "text": [
      "a b c d e f g \n",
      "1\n",
      "2\n",
      "3\n",
      "4\n",
      "5\n",
      "7\n",
      "8\n"
     ]
    }
   ],
   "metadata": {}
  },
  {
   "cell_type": "code",
   "execution_count": 15,
   "source": [
    "\r\n",
    "# Writing sum function to add two integers\r\n",
    "def sum(a,b) :\r\n",
    "    z = a+b\r\n",
    "    return z\r\n",
    "y = sum(40,20),sum(10,20)\r\n",
    "print(y)\r\n",
    "print(sum(30,50))\r\n",
    "print(sum(40,10))\r\n",
    "x = sum(20,50)\r\n",
    "print(x)"
   ],
   "outputs": [
    {
     "output_type": "stream",
     "name": "stdout",
     "text": [
      "(60, 30)\n",
      "80\n",
      "50\n",
      "70\n"
     ]
    }
   ],
   "metadata": {}
  },
  {
   "cell_type": "code",
   "execution_count": 45,
   "source": [
    "def dosum(a=10,b=16,c=44):\r\n",
    "    return a+b+c\r\n",
    "print(dosum(10,20))\r\n",
    "print(dosum())\r\n",
    "# we can change the values of b and c\r\n",
    "print(dosum(b=23,c=22))\r\n"
   ],
   "outputs": [
    {
     "output_type": "stream",
     "name": "stdout",
     "text": [
      "74\n",
      "70\n",
      "55\n"
     ]
    }
   ],
   "metadata": {}
  },
  {
   "cell_type": "code",
   "execution_count": 51,
   "source": [
    "# more is used when there are so many numbers,so everything after a and b will be taken in more\r\n",
    "def sum_variable(a,b,*more):\r\n",
    "    print(type(more))\r\n",
    "    print(more)\r\n",
    "    return 2\r\n",
    "x = sum_variable(10,20,30,40,50,60,70)"
   ],
   "outputs": [
    {
     "output_type": "stream",
     "name": "stdout",
     "text": [
      "<class 'tuple'>\n",
      "(30, 40, 50, 60, 70)\n"
     ]
    }
   ],
   "metadata": {}
  }
 ],
 "metadata": {
  "kernelspec": {
   "display_name": "Python 3",
   "language": "python",
   "name": "python3"
  },
  "language_info": {
   "codemirror_mode": {
    "name": "ipython",
    "version": 3
   },
   "file_extension": ".py",
   "mimetype": "text/x-python",
   "name": "python",
   "nbconvert_exporter": "python",
   "pygments_lexer": "ipython3",
   "version": "3.7.3"
  }
 },
 "nbformat": 4,
 "nbformat_minor": 2
}