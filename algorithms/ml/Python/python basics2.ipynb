{
 "cells": [
  {
   "cell_type": "code",
   "execution_count": 1,
   "metadata": {},
   "outputs": [],
   "source": [
    "#List \n",
    "#Different Types Of Data can be stored Together \n",
    "#Lists are Mutable i.e. We can change it \n",
    "\n"
   ]
  },
  {
   "cell_type": "code",
   "execution_count": 2,
   "metadata": {},
   "outputs": [
    {
     "name": "stdout",
     "output_type": "stream",
     "text": [
      "<class 'list'>\n",
      "[1, 2, 3.14, 'str']\n",
      "[1, 2, 3.14, 'str']\n",
      "[1, 2, 3.14, 'str']\n",
      "\n",
      "\n",
      "[0, 0, 0, 0, 0, 0, 0]\n",
      "[1, 4, 9, 16]\n"
     ]
    }
   ],
   "source": [
    "#Creating a List \n",
    "a1 = [1,2,3.14,'str']\n",
    "print(type(a1))\n",
    "print(a1)\n",
    "\n",
    "a2=[] #Empty List \n",
    "a3= list() #list is a keyword Its also An empty List \n",
    "\n",
    "a3= list(a1)\n",
    "print(a3)\n",
    "a2= list(a3)\n",
    "print(a2)\n",
    "print()\n",
    "print()\n",
    "\n",
    "#Loop Method to Create a List \n",
    "a4 = [0 for i in range(1,8)]\n",
    "print(a4)\n",
    "a5 =  [i*i for i in range(1,5)]\n",
    "print(a5)\n"
   ]
  },
  {
   "cell_type": "code",
   "execution_count": 3,
   "metadata": {},
   "outputs": [
    {
     "name": "stdout",
     "output_type": "stream",
     "text": [
      "2\n",
      "str\n",
      "str\n",
      "3 3\n",
      "[1, 2, 3, 4]\n",
      "[1, 2, 3, 4, 'str', 'float']\n",
      "[3, 4]\n",
      "1 1\n",
      "2 2\n",
      "3 3\n",
      "4 4\n",
      "5 str\n",
      "6 float\n"
     ]
    }
   ],
   "source": [
    "#How to access Data \n",
    "a1 = [1,2,3,4,'str','float']\n",
    "print(a1[1])\n",
    "print(a1[4])\n",
    "print(a1[-2])\n",
    "print(a1[-4],a1[2])\n",
    "\n",
    "print(a1[0 : 4])\n",
    "print(a1[ : ])\n",
    "print(a1[-4 : -2])\n",
    "len(a1)\n",
    "for i in range(0,len(a1)):\n",
    "    print(i+1,a1[i])"
   ]
  },
  {
   "cell_type": "code",
   "execution_count": 4,
   "metadata": {},
   "outputs": [
    {
     "name": "stdout",
     "output_type": "stream",
     "text": [
      "[' My', ' Name', '   is', ' Barry', ' Allen', '    1']\n",
      "['', 'My,', 'Name,', '', '', 'is,', 'Barry,', 'Allen,', '', '', '', '1']\n",
      " My, Name,   is, Barry, Allen,    1\n",
      "\n",
      " My, Name,   is, Barry, Allen,    1\n",
      "My, Name,   is, Barry, Allen,    1\n"
     ]
    }
   ],
   "source": [
    "#How to Take Input From Users\n",
    "str = \" My, Name,   is, Barry, Allen,    1\"\n",
    "print(str.split(\",\"))\n",
    "print(str.split(\" \"))\n",
    "print(str)\n",
    "print()\n",
    "\n",
    "a = str.strip()\n",
    "print(str)\n",
    "print(a)"
   ]
  },
  {
   "cell_type": "code",
   "execution_count": 6,
   "metadata": {},
   "outputs": [
    {
     "name": "stdout",
     "output_type": "stream",
     "text": [
      "1 2 3 4\n",
      "1 2 3 4\n",
      "['1', '2', '3', '4']\n",
      "[1, 2, 3, 4]\n",
      "End\n"
     ]
    }
   ],
   "source": [
    "str = input().strip()\n",
    "print(str)\n",
    "l = str.split(\" \")\n",
    "print(l)\n",
    "for i in range(0,len(l)):\n",
    "    l[i]=int(l[i])\n",
    "print(l)\n",
    "\n",
    "for j in range(0,len(l)):\n",
    "    if l[j]/2 == 0:\n",
    "        print(l[j])\n",
    "print(\"End\")\n",
    "\n"
   ]
  },
  {
   "cell_type": "code",
   "execution_count": 14,
   "metadata": {},
   "outputs": [
    {
     "data": {
      "text/plain": [
       "[[0, 1, 2, 3, 4],\n",
       " [5, 6, 7, 8, 9],\n",
       " [10, 11, 12, 13, 14],\n",
       " [15, 16, 17, 18, 19],\n",
       " [20, 21, 22, 23, 24],\n",
       " [25, 26, 27, 28, 29],\n",
       " [30, 31, 32, 33, 34],\n",
       " [35, 36, 37, 38, 39],\n",
       " [40, 41, 42, 43, 44],\n",
       " [45, 46, 47, 48, 49]]"
      ]
     },
     "execution_count": 14,
     "metadata": {},
     "output_type": "execute_result"
    }
   ],
   "source": [
    "l2D1 = [[5*i+j for j in range(5)] for i in range(10)]\n",
    "l2D1"
   ]
  },
  {
   "cell_type": "code",
   "execution_count": 15,
   "metadata": {},
   "outputs": [
    {
     "name": "stdout",
     "output_type": "stream",
     "text": [
      "2 3\n",
      "['2 3']\n"
     ]
    }
   ],
   "source": [
    "str = input().strip().split(\",\")\n",
    "print(str)"
   ]
  },
  {
   "cell_type": "code",
   "execution_count": 16,
   "metadata": {},
   "outputs": [
    {
     "data": {
      "text/plain": [
       "[[1, 2, 3], [4, 5, 6]]"
      ]
     },
     "execution_count": 16,
     "metadata": {},
     "output_type": "execute_result"
    }
   ],
   "source": [
    "out = [[l[i*m+j]for j in range(m)]for i in range(n)]\n",
    "out"
   ]
  },
  {
   "cell_type": "code",
   "execution_count": 18,
   "metadata": {},
   "outputs": [
    {
     "data": {
      "text/plain": [
       "3.1622776601683795"
      ]
     },
     "execution_count": 18,
     "metadata": {},
     "output_type": "execute_result"
    }
   ],
   "source": [
    "import math as m\n",
    "m.sqrt(10)"
   ]
  },
  {
   "cell_type": "code",
   "execution_count": 7,
   "metadata": {},
   "outputs": [
    {
     "name": "stdout",
     "output_type": "stream",
     "text": [
      "[1, 2, 3, 'str', 'ert', 'dog', 3]\n",
      "[1, 2, 3, 'str', 4, 'ert', 'dog', 3]\n",
      "['start', 1, 2, 3, 'str', 4, 'ert', 'dog', 3]\n",
      "['start', 1, 2, 3, 'str', 4, 'ert', 'dog', 3, 'end']\n",
      "10\n",
      "['start', 1, 2, 3, 'str', 4, 'ert', 'dog', 3, 'end', 2, 3, 4]\n",
      "[2, 3, 4, 'start', 1, 2, 3, 'str', 4, 'ert', 'dog', 3, 'end', 2, 3, 4]\n"
     ]
    }
   ],
   "source": [
    "#Add Elememts to the List\n",
    "\n",
    "l =[1,2,3,'str','ert']\n",
    "l.append('dog') #Append() always adds elemts to the end \n",
    "l.append(3)\n",
    "print(l)\n",
    "\n",
    "l.insert(4,4) #Insert() adds an element according to the index. Shifts the elemnt alredy at that place \n",
    "print(l)\n",
    "l.insert(0,'start')\n",
    "print(l)\n",
    "\n",
    "l.insert(10,'end') #If we want to add any elemnt at the end by insert(), then we can use any random number that is greater than the existing one\n",
    "print(l)\n",
    "print(len(l))  #P.S. Try not to put some very vauge number\n",
    "\n",
    "l2=[2,3,4]\n",
    "l.extend(l2) #extend() adds the list in the arugment at the end of the list\n",
    "print(l)\n",
    "\n",
    "l2.extend(l)\n",
    "print(l2)"
   ]
  },
  {
   "cell_type": "code",
   "execution_count": 8,
   "metadata": {},
   "outputs": [
    {
     "name": "stdout",
     "output_type": "stream",
     "text": [
      "[2, 3, 4, 'start', 1, 2, 3, 'str', 4, 'ert', 'dog', 3, 'end', 2, 3]\n",
      "[2, 3, 4, 'start', 2, 3, 'str', 4, 'ert', 'dog', 3, 'end', 2, 3]\n",
      "[2, 3, 4, 'start', 2, 3, 'str', 4, 'ert', 3, 'end', 2, 3]\n",
      "[2, 3, 4, 'start', 3, 'str', 4, 'ert', 3, 'end', 2, 3]\n",
      "[2, 3, 4, 'start', 'ert', 3, 'end', 2, 3]\n"
     ]
    }
   ],
   "source": [
    "#Deleting Elements of The List \n",
    "\n",
    "l = [2, 3, 4, 'start', 1, 2, 3, 'str', 4, 'ert', 'dog', 3, 'end', 2, 3, 4]\n",
    "#for i in range(0,len(l)):\n",
    "    #print(i,l[i])\n",
    "l.pop() #Without an argument pop() will remove the last element only \n",
    "print(l)\n",
    "\n",
    "l.pop(4) #Remoses the elemnt that is on the giving index \n",
    "print(l)\n",
    "\n",
    "l.remove('dog') #Remove() removes the element that has been passed as arugument \n",
    "print(l)\n",
    "\n",
    "del l[4] #It removes element that is at the given index \n",
    "print(l)\n",
    "\n",
    "del l[4 : 7] #It removes the slice that has been entered \n",
    "print(l)"
   ]
  },
  {
   "cell_type": "code",
   "execution_count": 9,
   "metadata": {},
   "outputs": [
    {
     "name": "stdout",
     "output_type": "stream",
     "text": [
      "[1, 2, 4, 6, 7, 8, 8, 34, 55, 56, 78, 90, 98, 999]\n",
      "[999, 98, 90, 78, 56, 55, 34, 8, 8, 7, 6, 4, 2, 1]\n",
      "2\n",
      "1\n",
      "5\n",
      "\n",
      "4\n",
      "['start', 1, 2, 3, 'str', 'ert', 'dog', 3, 'end', 2, 3, 4]\n"
     ]
    }
   ],
   "source": [
    "l = [4,6,2,8,1,55,78,98,34,56,7,8,90,999]\n",
    "\n",
    "l.sort() #It changes the actual list and arranges it into increasing order \n",
    "print(l)\n",
    "\n",
    "l.reverse() #It reverses the given array\n",
    "print(l)\n",
    "\n",
    "print(l.count(8)) #count() it counts the number of time the element has been repeated in the given list \n",
    "a = l.count(6)\n",
    "print(a)\n",
    "\n",
    "print(l.index(55)) #index()  tells the index of any element in the list \n",
    "print()\n",
    "\n",
    "l2= ['start', 1, 2, 3, 'str', 4, 'ert', 'dog', 3, 'end', 2, 3, 4]\n",
    "c = l2.index(4)\n",
    "print(l2.pop(c))\n",
    "print(l2)"
   ]
  },
  {
   "cell_type": "code",
   "execution_count": 10,
   "metadata": {},
   "outputs": [
    {
     "name": "stdout",
     "output_type": "stream",
     "text": [
      "{12: 23, 'str': 45}\n",
      "23\n"
     ]
    }
   ],
   "source": [
    "#Dictonaries \n",
    "# Works On Key Value \n",
    "# In a dictonary, Index Is the Key \n",
    "\n",
    "d = {} #Empty Dictonary \n",
    "d[12]= 23\n",
    "d['str']= 45 #Adding Elements In Dictonary \n",
    "print(d)\n",
    "print(d[12])\n",
    "\n",
    "# Keys are Immutable \n",
    "# Key Can be anything int, float, string, tuple , list etc \n"
   ]
  },
  {
   "cell_type": "code",
   "execution_count": 11,
   "metadata": {},
   "outputs": [
    {
     "name": "stdout",
     "output_type": "stream",
     "text": [
      "[[1, 2, 3], [4, 5]]\n",
      "[(0, 0, 0), (0, 0, 0), (0, 0, 0), (0, 0, 0)]\n",
      "[(0, 2), (5, 2), (10, 2), (15, 2), (20, 2), (25, 2), (30, 2), (35, 2), (40, 2), (45, 2)]\n"
     ]
    }
   ],
   "source": [
    "# 2-D Lists \n",
    "l = [[1,2,3],[4,5]]\n",
    "print(l)\n",
    "\n",
    "l1= [(0,0,0) for i in range(1,5)]\n",
    "print(l1)\n",
    "\n",
    "l2= [(i*5,2) for i in range(0,10)]\n",
    "print(l2)"
   ]
  },
  {
   "cell_type": "code",
   "execution_count": 12,
   "metadata": {},
   "outputs": [
    {
     "name": "stdout",
     "output_type": "stream",
     "text": [
      "5\n",
      "[[1, 2, 3], [4, 5]]\n"
     ]
    }
   ],
   "source": [
    "n = int(input())\n",
    "def list(n):\n",
    "    for i in  range(0,n):\n",
    "        if i/2==0:\n",
    "            l=[(0,0,0,0)]\n",
    "            \n",
    "        else :\n",
    "            l.extend(l1[1,1,1,1])\n",
    "    return(l)   \n",
    "print(l)\n",
    "    "
   ]
  },
  {
   "cell_type": "code",
   "execution_count": 13,
   "metadata": {},
   "outputs": [
    {
     "name": "stdout",
     "output_type": "stream",
     "text": [
      "2 3\n",
      "['2', '3']\n",
      "1 2 3 4 5 6\n",
      "[1, 2, 3, 4, 5, 6]\n",
      "[[1, 2, 3], [4, 5, 6]]\n"
     ]
    }
   ],
   "source": [
    "#How to take input from user Into an Array \n",
    "str = input().strip().split(\" \")\n",
    "print(str)\n",
    "\n",
    "n = int(str[0])\n",
    "m = int(str[1])\n",
    "\n",
    "l = [int(i) for i in input().strip().split(\" \")]\n",
    "print(l)\n",
    "out = [[l[i*m + j]for j in range(m)]for i in range(n)]\n",
    "print(out)\n",
    "\n",
    "\n",
    "\n"
   ]
  },
  {
   "cell_type": "code",
   "execution_count": null,
   "metadata": {
    "collapsed": true
   },
   "outputs": [],
   "source": []
  }
 ],
 "metadata": {
  "kernelspec": {
   "display_name": "Python 3",
   "language": "python",
   "name": "python3"
  },
  "language_info": {
   "codemirror_mode": {
    "name": "ipython",
    "version": 3
   },
   "file_extension": ".py",
   "mimetype": "text/x-python",
   "name": "python",
   "nbconvert_exporter": "python",
   "pygments_lexer": "ipython3",
   "version": "3.7.3"
  }
 },
 "nbformat": 4,
 "nbformat_minor": 2
}
