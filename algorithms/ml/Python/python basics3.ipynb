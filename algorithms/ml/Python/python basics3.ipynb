{
 "cells": [
  {
   "cell_type": "code",
   "execution_count": 10,
   "source": [
    "#Variables \r\n",
    "#They can store arbitarty Data like int, float, boolean, str etc etc \r\n",
    "#We dont have to declear datstypes \r\n",
    "\r\n",
    "a = 10 \r\n",
    "b = 22\r\n",
    "print(a)\r\n",
    "print(12)\r\n",
    "\r\n",
    "\r\n"
   ],
   "outputs": [
    {
     "output_type": "stream",
     "name": "stdout",
     "text": [
      "10\n",
      "12\n"
     ]
    }
   ],
   "metadata": {}
  },
  {
   "cell_type": "code",
   "execution_count": 11,
   "source": [
    "#Python Prints the last statement entered if Print satetment has bot been declered \r\n",
    "#Last Line is the output\r\n",
    "a = 10 \r\n",
    "b = 22\r\n",
    "a"
   ],
   "outputs": [
    {
     "output_type": "execute_result",
     "data": {
      "text/plain": [
       "10"
      ]
     },
     "metadata": {},
     "execution_count": 11
    }
   ],
   "metadata": {}
  },
  {
   "cell_type": "code",
   "execution_count": 1,
   "source": [
    "#End Statement \r\n",
    "a = 10 \r\n",
    "b = 22\r\n",
    "c = 20\r\n",
    "d = 30\r\n",
    "e = 40\r\n",
    "f = 50\r\n",
    "\r\n",
    "print(a)\r\n",
    "print(b)\r\n",
    "print(c)\r\n",
    "print(d)\r\n",
    "print(e)\r\n",
    "print(f)\r\n",
    "\r\n",
    "#To sperate between Lines : We use an empty print() statement\r\n",
    "print()\r\n",
    "\r\n",
    "print(a,end = \" , \")\r\n",
    "print(b,c,d, end = \" : \")\r\n",
    "print(e)\r\n",
    "print()\r\n",
    "print(a,f)\r\n",
    "print(b,end = \" : \")\r\n",
    "print(c,end = \" : \")\r\n",
    "print(d)"
   ],
   "outputs": [
    {
     "output_type": "stream",
     "name": "stdout",
     "text": [
      "10\n",
      "22\n",
      "20\n",
      "30\n",
      "40\n",
      "50\n",
      "\n",
      "10 , 22 20 30 : 40\n",
      "\n",
      "10 50\n",
      "22 : 20 : 30\n"
     ]
    }
   ],
   "metadata": {}
  },
  {
   "cell_type": "code",
   "execution_count": 2,
   "source": [
    "#You dont need to tell Python The Data Types that its dealing with \r\n",
    "#Some examoles of Data Types That we have In Python ::: Integer , Float , String, Complex , Boolean, tuples, arrays etc etc \r\n",
    "\r\n",
    "#Type Function : Tells the type of data that is being Entered \r\n",
    "\r\n",
    "a = \"Nasreen\"\r\n",
    "b= 3 + 4j\r\n",
    "c= 12\r\n",
    "e=12.00\r\n",
    "d= 16.44\r\n",
    "print()\r\n",
    "print(\"Nasreen\",type(a))\r\n",
    "print(\"3 + 4j\", type(b))\r\n",
    "print(type(c))\r\n",
    "print(type(e))\r\n",
    "print(type(d))"
   ],
   "outputs": [
    {
     "output_type": "stream",
     "name": "stdout",
     "text": [
      "\n",
      "Nasreen <class 'str'>\n",
      "3 + 4j <class 'complex'>\n",
      "<class 'int'>\n",
      "<class 'float'>\n",
      "<class 'float'>\n"
     ]
    }
   ],
   "metadata": {}
  },
  {
   "cell_type": "code",
   "execution_count": 3,
   "source": [
    "#Basic Operations \r\n",
    "a = 20.00\r\n",
    "b = 12\r\n",
    "\r\n",
    "print(\"a+b =\",a+b)\r\n",
    "print(\"a-b=\",a-b)\r\n",
    "print(\"a X b=\", a*b)\r\n",
    "print(\"a / b=\",a / b)\r\n",
    "\r\n",
    "#Floor Division : Will use the floor function over answer ex if ans is 2.34 it will display 2 \r\n",
    "print(\"Floor division\", a//b)\r\n",
    "print(\"Exponential\", a**b)\r\n",
    "print(\"Remainder or modulus\", a%b)\r\n",
    "\r\n"
   ],
   "outputs": [
    {
     "output_type": "stream",
     "name": "stdout",
     "text": [
      "a+b = 32.0\n",
      "a-b= 8.0\n",
      "a X b= 240.0\n",
      "a / b= 1.6666666666666667\n",
      "Floor division 1.0\n",
      "Exponential 4096000000000000.0\n",
      "Remainder or modulus 8.0\n"
     ]
    }
   ],
   "metadata": {}
  },
  {
   "cell_type": "code",
   "execution_count": 4,
   "source": [
    "#Strings \r\n",
    "#Two Ways to Input the Strings\r\n",
    "a = \"Abc\"\r\n",
    "b = 'abc'\r\n",
    "print(a,b)\r\n",
    "\r\n",
    "#Typical String Properties \r\n",
    "c = \"It is a very rainy day\"\r\n",
    "print(len(c))\r\n",
    "print(len(\"abc\"))\r\n",
    "print(type(c))\r\n",
    "\r\n",
    "#c[2] =\"2\" TypeError: 'str' object does not support item assignment\r\n",
    "#Strings Are Immutable \r\n",
    "\r\n",
    "d = a+b \r\n",
    "print(d)\r\n",
    "print()\r\n",
    "e = b+c \r\n",
    "print(e)\r\n",
    "print()\r\n",
    "print(a+ \" , \" +b +\" , \" +c)\r\n",
    "\r\n",
    "#print(a + 2 )\r\n",
    "# Strings can be added with other srtrings but strings and Intergers Cant be added \r\n",
    "\r\n",
    "print(type(2))\r\n",
    "print(type(\"2\"))"
   ],
   "outputs": [
    {
     "output_type": "stream",
     "name": "stdout",
     "text": [
      "Abc abc\n",
      "22\n",
      "3\n",
      "<class 'str'>\n",
      "Abcabc\n",
      "\n",
      "abcIt is a very rainy day\n",
      "\n",
      "Abc , abc , It is a very rainy day\n",
      "<class 'int'>\n",
      "<class 'str'>\n"
     ]
    }
   ],
   "metadata": {}
  },
  {
   "cell_type": "code",
   "execution_count": 6,
   "source": [
    "#Few Functions For Strings \r\n",
    "\r\n",
    "var = \"   ab  c \"\r\n",
    "print(var.upper())\r\n",
    "print(var)\r\n",
    "print(\"winter\".upper())\r\n",
    "#Upper() and lower() changes the strings. They Do Not Store the changed Strings In memeory \r\n",
    "\r\n",
    "print(var.lower())\r\n",
    "print(var)\r\n",
    "print(\"WINTER\".lower())\r\n",
    "print()\r\n",
    "\r\n",
    "print(var.isalpha())\r\n",
    "#The Variable starts with Space and Space is not an alphabet , so the function retuns Flase. Also works with special characters \r\n",
    "\r\n",
    "#a = 123\r\n",
    "b = \"123abc\"\r\n",
    "c = \"123 abc\"\r\n",
    "d = \"123\"\r\n",
    "e = \"abc\"\r\n",
    "#print(a.isalpha()) AttributeError: 'int' object has no attribute 'isalpha' coz  a is an integer and isaplha() runs on strings only\r\n",
    "print(b.isalpha())\r\n",
    "print(c.isalpha())\r\n",
    "print(d.isalpha())\r\n",
    "print(e.isalpha())\r\n"
   ],
   "outputs": [
    {
     "output_type": "stream",
     "name": "stdout",
     "text": [
      "   AB  C \n",
      "   ab  c \n",
      "WINTER\n",
      "   ab  c \n",
      "   ab  c \n",
      "winter\n",
      "\n",
      "False\n",
      "False\n",
      "False\n",
      "False\n",
      "True\n"
     ]
    }
   ],
   "metadata": {}
  },
  {
   "cell_type": "code",
   "execution_count": 47,
   "source": [
    "a = \"  abcdef  \"\r\n",
    "print(a)\r\n",
    "print(a.isalpha())\r\n",
    "\r\n",
    "print(a.strip()) # Will remove the Whitespaces only at the beginning and end and not the spaces In between\r\n",
    "print(a) #But it will not change the original variable\r\n",
    "\r\n",
    "c = a.strip() #In this way we can store the results\r\n",
    "print(\"a.strip() =\",c)\r\n",
    "print(c.isalpha())\r\n",
    "\r\n",
    "#d = 123 This is an Integer, so isdigit() will show an error\r\n",
    "e = '123'\r\n",
    "#print(d.isdigit())   isdigit() only works with strings. It checks that a string is made of Digit only \r\n",
    "print(e.isdigit())\r\n",
    "\r\n",
    "f = '123abc'\r\n",
    "print(f.isdigit())"
   ],
   "outputs": [
    {
     "output_type": "stream",
     "name": "stdout",
     "text": [
      "  abcdef  \n",
      "False\n",
      "abcdef\n",
      "  abcdef  \n",
      "a.strip() = abcdef\n",
      "True\n",
      "True\n",
      "False\n"
     ]
    }
   ],
   "metadata": {}
  },
  {
   "cell_type": "code",
   "execution_count": 7,
   "source": [
    "#How to take Input from User \n",
    "\n",
    "print(\"Enter the name of your dog\", end = \" : \")\n",
    "a = input()"
   ],
   "outputs": [
    {
     "output_type": "stream",
     "name": "stdout",
     "text": [
      "Enter the name of your dog : bruno\n"
     ]
    }
   ],
   "metadata": {}
  },
  {
   "cell_type": "code",
   "execution_count": 8,
   "source": [
    "#The Input from User is Always a string \n",
    "print(\"Enter the name of your dog\", end = \" : \")\n",
    "a = input()\n",
    "print(type(a))\n",
    "print()\n",
    "\n",
    "print(\"Enter an integer\", end = \" : \")\n",
    "b = input()\n",
    "print(type(b))\n",
    "print()\n",
    "\n"
   ],
   "outputs": [
    {
     "output_type": "stream",
     "name": "stdout",
     "text": [
      "Enter the name of your dog : bruno\n",
      "<class 'str'>\n",
      "\n",
      "Enter an integer : 23\n",
      "<class 'str'>\n",
      "\n"
     ]
    }
   ],
   "metadata": {}
  },
  {
   "cell_type": "code",
   "execution_count": 9,
   "source": [
    "#How to convert string into Integer or float or vice versa \n",
    "\n",
    "print(\"Enter an integer\", end = \" : \")\n",
    "b = input()\n",
    "b = int(b)\n",
    "print(type(b))\n",
    "print()\n",
    "\n",
    "print(\"Enter an integer\", end = \" : \")\n",
    "c = int(input())\n",
    "print(type(c))\n",
    "print()\n",
    "\n",
    "print(\"Enter an integer\", end = \" : \")\n",
    "c = float(input())\n",
    "print(type(c))\n",
    "print()\n",
    "\n",
    "f= 20\n",
    "print(type(f))\n",
    "f = str(f)\n",
    "print(type(f))\n"
   ],
   "outputs": [
    {
     "output_type": "stream",
     "name": "stdout",
     "text": [
      "Enter an integer : 23\n",
      "<class 'int'>\n",
      "\n",
      "Enter an integer : 33\n",
      "<class 'int'>\n",
      "\n",
      "Enter an integer : 34\n",
      "<class 'float'>\n",
      "\n",
      "<class 'int'>\n",
      "<class 'str'>\n"
     ]
    }
   ],
   "metadata": {}
  },
  {
   "cell_type": "code",
   "execution_count": 17,
   "source": [
    "#String Slicing \n",
    "a = \"Manisha is sleeping\"\n",
    "print(len(a))\n",
    "print(a[11])\n",
    "print(a[5])\n",
    "print(a[-5])\n",
    "print(a[-7])\n",
    "\n",
    "print(a[0 : 7])\n",
    "print(a[0 : 10])\n",
    "print(a[-9 : -1])\n",
    "print(a[ : 7])\n",
    "print(a[5 : ])\n",
    "print(a[ : ])"
   ],
   "outputs": [
    {
     "output_type": "stream",
     "name": "stdout",
     "text": [
      "19\n",
      "s\n",
      "h\n",
      "e\n",
      "l\n",
      "Manisha\n",
      "Manisha is\n",
      " sleepin\n",
      "Manisha\n",
      "ha is sleeping\n",
      "Manisha is sleeping\n"
     ]
    }
   ],
   "metadata": {}
  },
  {
   "cell_type": "code",
   "execution_count": 10,
   "source": [
    "#Tuples \n",
    "#We can have many things Together \n",
    "a = (1,2,3,\"str\",3.45)\n",
    "print(type(a))\n",
    "print(a)\n",
    "\n",
    "#Tuples Are immutable \n",
    "#Tuples can also be sliced lile strings \n",
    "\n",
    "b = 2,3,\"abc\"  #When we declear more than one thing in a single varibale , it automatically changes Into A TUPLE \n",
    "print(b)\n",
    "print(type(b))"
   ],
   "outputs": [
    {
     "output_type": "stream",
     "name": "stdout",
     "text": [
      "<class 'tuple'>\n",
      "(1, 2, 3, 'str', 3.45)\n",
      "(2, 3, 'abc')\n",
      "<class 'tuple'>\n"
     ]
    }
   ],
   "metadata": {}
  },
  {
   "cell_type": "code",
   "execution_count": 11,
   "source": [
    "#Operators On tuples \n",
    "\n",
    "t = (1,2)\n",
    "k = (3,4,5)\n",
    "\n",
    "print(t+k)\n",
    "# print(t*k)  TypeError: can't multiply sequence by non-int of type 'tuple'\n",
    "\n",
    "print(t * 2) #It copies the elements the number of times it has been multiplied\n",
    "print((t+k)*2)\n",
    "print()\n",
    "\n",
    "#Searching In a Tuple \n",
    "d = (t+k)*2\n",
    "print(\"The new tuple d is =\",d)\n",
    "\n",
    "print(8 in d)\n",
    "print(3 in d)\n",
    "print(\"str\" in d)\n",
    "\n",
    "#Searhes If a given thing is present in a tuple or not\n"
   ],
   "outputs": [
    {
     "output_type": "stream",
     "name": "stdout",
     "text": [
      "(1, 2, 3, 4, 5)\n",
      "(1, 2, 1, 2)\n",
      "(1, 2, 3, 4, 5, 1, 2, 3, 4, 5)\n",
      "\n",
      "The new tuple d is = (1, 2, 3, 4, 5, 1, 2, 3, 4, 5)\n",
      "False\n",
      "True\n",
      "False\n"
     ]
    }
   ],
   "metadata": {}
  },
  {
   "cell_type": "code",
   "execution_count": 12,
   "source": [
    "#Conditionals \n",
    "\n",
    "a = True \n",
    "b = False \n",
    "print(type(a))\n",
    "print(type(b))\n",
    "\n",
    "#Relational Operators \n",
    "c = 16\n",
    "d = 6 \n",
    "print()\n",
    "print(c>d)\n",
    "print(c>=d)\n",
    "print(c<d)\n",
    "print(c<=d)\n",
    "print(c== d )\n",
    "print(c!=d)\n",
    "print()\n",
    "#Logical Operator \n",
    "\n",
    "print(True or False)\n",
    "print(False and False)\n"
   ],
   "outputs": [
    {
     "output_type": "stream",
     "name": "stdout",
     "text": [
      "<class 'bool'>\n",
      "<class 'bool'>\n",
      "\n",
      "True\n",
      "True\n",
      "False\n",
      "False\n",
      "False\n",
      "True\n",
      "\n",
      "True\n",
      "False\n"
     ]
    }
   ],
   "metadata": {}
  },
  {
   "cell_type": "code",
   "execution_count": 13,
   "source": [
    "#Conditionals \n",
    "\n",
    "#Indentation is a compulasary \n",
    "\n",
    "a = 20 \n",
    "b = 30 \n",
    "\n",
    "if a>b :\n",
    "    print(\"ball\")\n",
    "    print(\"Yes\")\n",
    "elif a == b : \n",
    "    print(\"Okie\")\n",
    "else :\n",
    "    print(\"No\")\n",
    "    \n",
    "#Indenatation Tells Everything about a condition "
   ],
   "outputs": [
    {
     "output_type": "stream",
     "name": "stdout",
     "text": [
      "No\n"
     ]
    }
   ],
   "metadata": {}
  },
  {
   "cell_type": "code",
   "execution_count": 15,
   "source": [
    "#Loops \n",
    "\n",
    "n = int(input())\n",
    "i = 1\n",
    "while i <=n : \n",
    "    print(\"Its a Good \")\n",
    "    i = i +1 \n",
    "print(\"terminate?\")\n",
    "    "
   ],
   "outputs": [
    {
     "output_type": "stream",
     "name": "stdout",
     "text": [
      "5\n",
      "Its a Good \n",
      "Its a Good \n",
      "Its a Good \n",
      "Its a Good \n",
      "Its a Good \n",
      "terminate?\n"
     ]
    }
   ],
   "metadata": {}
  },
  {
   "cell_type": "code",
   "execution_count": 16,
   "source": [
    "#While Loop Exapmle\n",
    "\n",
    "n = int(input())\n",
    "i = int(input())\n",
    "print(\"i =\",i, \"n =\",n)\n",
    "\n",
    "if n>i :\n",
    "    while n>=i :\n",
    "        print(\"All is good\")\n",
    "        n=n-1\n",
    "      \n",
    "     \n",
    "elif n == i :\n",
    "    print(\"All are equal\")\n",
    "else : \n",
    "    while i>n :\n",
    "        print(\"All is Lower \")\n",
    "        i = i-1\n",
    "print(\"terminated\")\n",
    "\n",
    "    "
   ],
   "outputs": [
    {
     "output_type": "stream",
     "name": "stdout",
     "text": [
      "5\n",
      "1\n",
      "i = 1 n = 5\n",
      "All is good\n",
      "All is good\n",
      "All is good\n",
      "All is good\n",
      "All is good\n",
      "Programme has terminated\n"
     ]
    }
   ],
   "metadata": {}
  },
  {
   "cell_type": "code",
   "execution_count": 17,
   "source": [
    "#Range Function \n",
    "for i in range(0,21,2) :\n",
    "    print(i, end = \"-->\")"
   ],
   "outputs": [
    {
     "output_type": "stream",
     "name": "stdout",
     "text": [
      "0-->2-->4-->6-->8-->10-->12-->14-->16-->18-->20-->"
     ]
    }
   ],
   "metadata": {}
  },
  {
   "cell_type": "code",
   "execution_count": 18,
   "source": [
    "#Using Both Loops \n",
    "i = 1\n",
    "j = 10\n",
    "while i<=j :\n",
    "    print(i, end= \" \")\n",
    "    i = i+1 \n",
    "print()\n",
    "print(\"While Loop done\")\n",
    "print()\n",
    "\n",
    "for i in range(1,11):\n",
    "    print(i, end= \" \")\n",
    "print()\n",
    "print(\"fOR loop Terminated\")"
   ],
   "outputs": [
    {
     "output_type": "stream",
     "name": "stdout",
     "text": [
      "1 2 3 4 5 6 7 8 9 10 \n",
      "While Loop done\n",
      "\n",
      "1 2 3 4 5 6 7 8 9 10 \n",
      "fOR loop Terminated\n"
     ]
    }
   ],
   "metadata": {}
  },
  {
   "cell_type": "code",
   "execution_count": 19,
   "source": [
    "#Fast Iteration In Strings And Tuples \n",
    "#Its called Fast Inteeration Only coz Its easier to write the code \n",
    "#There IS no difference In execution Time \n",
    "\n",
    "s = \"abcd\"\n",
    "for i in s:\n",
    "    print(i)\n",
    "a = (1,2,3)\n",
    "for b in a:\n",
    "    print(b)"
   ],
   "outputs": [
    {
     "output_type": "stream",
     "name": "stdout",
     "text": [
      "a\n",
      "b\n",
      "c\n",
      "d\n",
      "1\n",
      "2\n",
      "3\n"
     ]
    }
   ],
   "metadata": {}
  },
  {
   "cell_type": "code",
   "execution_count": 20,
   "source": [
    "#Functions \n",
    "#Pre defined functions and one we make \n",
    "#We have seen Examples of Pre-Defined Functions \n",
    "\n",
    "def sum(a,b) : \n",
    "    z = a+b\n",
    "    return z \n",
    "x = sum(10,6)\n",
    "print(x)\n",
    "\n",
    "print(sum(20,30))\n",
    "y = sum(10,6) + sum(20,30)\n",
    "print(y)    "
   ],
   "outputs": [
    {
     "output_type": "stream",
     "name": "stdout",
     "text": [
      "16\n",
      "50\n",
      "66\n"
     ]
    }
   ],
   "metadata": {}
  },
  {
   "cell_type": "code",
   "execution_count": 21,
   "source": [
    "#Default arugument to a function \n",
    "\n",
    "def dosum(a=10,b=16,c=44):\n",
    "    return a+b+c\n",
    "print(dosum(10,20))\n",
    "print(dosum())\n",
    "\n",
    "print(dosum(b=23,c=22))\n",
    "\n",
    "\n"
   ],
   "outputs": [
    {
     "output_type": "stream",
     "name": "stdout",
     "text": [
      "74\n",
      "70\n",
      "55\n"
     ]
    }
   ],
   "metadata": {}
  },
  {
   "cell_type": "code",
   "execution_count": 22,
   "source": [
    "#Variabe Sized Input and Output\n",
    "\n",
    "def sum_variable(a,b,*more):\n",
    "    print(type(more))\n",
    "    print(more)\n",
    "    return \n",
    "\n",
    "x = sum_variable(10,20,30,45,56,7,8,9,0)\n"
   ],
   "outputs": [
    {
     "output_type": "stream",
     "name": "stdout",
     "text": [
      "<class 'tuple'>\n",
      "(30, 45, 56, 7, 8, 9, 0)\n"
     ]
    }
   ],
   "metadata": {}
  },
  {
   "cell_type": "code",
   "execution_count": 23,
   "source": [
    "def sum_variable(a,b,*more):\n",
    "    ans = a+b \n",
    "    for i in more :\n",
    "        ans = ans + i \n",
    "    return ans \n",
    "x = sum_variable(10,20,30,45,56,7,8,9,0)\n",
    "print(x)\n",
    "\n",
    "    "
   ],
   "outputs": [
    {
     "output_type": "stream",
     "name": "stdout",
     "text": [
      "185\n"
     ]
    }
   ],
   "metadata": {}
  },
  {
   "cell_type": "code",
   "execution_count": null,
   "source": [],
   "outputs": [],
   "metadata": {
    "collapsed": true
   }
  }
 ],
 "metadata": {
  "kernelspec": {
   "display_name": "Python 3",
   "language": "python",
   "name": "python3"
  },
  "language_info": {
   "codemirror_mode": {
    "name": "ipython",
    "version": 3
   },
   "file_extension": ".py",
   "mimetype": "text/x-python",
   "name": "python",
   "nbconvert_exporter": "python",
   "pygments_lexer": "ipython3",
   "version": "3.7.3"
  }
 },
 "nbformat": 4,
 "nbformat_minor": 2
}