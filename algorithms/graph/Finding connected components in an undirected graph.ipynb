{
 "cells": [
  {
   "cell_type": "markdown",
   "metadata": {},
   "source": [
    "# Finding connected components in an undirected graph\n",
    "\n",
    "Problem:Given an undirected graph, print all connected components line by line.\n"
   ]
  },
  {
   "cell_type": "code",
   "execution_count": 2,
   "metadata": {},
   "outputs": [
    {
     "name": "stdout",
     "output_type": "stream",
     "text": [
      "These are the connected components\n",
      "[[0, 1], [2, 3, 4]]\n"
     ]
    }
   ],
   "source": [
    "# Python program to print connected\n",
    "# components in an undirected graph\n",
    " \n",
    " \n",
    "class Graph:\n",
    " \n",
    "    # init function to declare class variables\n",
    "    def __init__(self, V):\n",
    "        self.V = V\n",
    "        self.adj = [[] for i in range(V)]\n",
    " \n",
    "    def DFSUtil(self, temp, v, visited):\n",
    " \n",
    "        # Mark the current vertex as visited\n",
    "        visited[v] = True\n",
    " \n",
    "        # Store the vertex to list\n",
    "        temp.append(v)\n",
    " \n",
    "        # Repeat for all vertices adjacent\n",
    "        # to this vertex v\n",
    "        for i in self.adj[v]:\n",
    "            if visited[i] == False:\n",
    " \n",
    "                # Update the list\n",
    "                temp = self.DFSUtil(temp, i, visited)\n",
    "        return temp\n",
    " \n",
    "    # method to add an undirected edge\n",
    "    def addEdge(self, v, w):\n",
    "        self.adj[v].append(w)\n",
    "        self.adj[w].append(v)\n",
    " \n",
    "    # Method to retrieve connected components\n",
    "    # in an undirected graph\n",
    "    def connectedComponents(self):\n",
    "        visited = []\n",
    "        cc = []\n",
    "        for i in range(self.V):\n",
    "            visited.append(False)\n",
    "        for v in range(self.V):\n",
    "            if visited[v] == False:\n",
    "                temp = []\n",
    "                cc.append(self.DFSUtil(temp, v, visited))\n",
    "        return cc\n",
    " \n",
    " \n",
    "\n",
    "if __name__ == \"__main__\":\n",
    " \n",
    "    # Create a graph given in the above diagram\n",
    "    # 5 vertices numbered from 0 to 4\n",
    "    g = Graph(5)\n",
    "    g.addEdge(1, 0)\n",
    "    g.addEdge(2, 3)\n",
    "    g.addEdge(3, 4)\n",
    "    cc = g.connectedComponents()\n",
    "    print(\"These are the connected components\")\n",
    "    print(cc)"
   ]
  },
  {
   "cell_type": "code",
   "execution_count": null,
   "metadata": {},
   "outputs": [],
   "source": []
  }
 ],
 "metadata": {
  "kernelspec": {
   "display_name": "Python 3",
   "language": "python",
   "name": "python3"
  },
  "language_info": {
   "codemirror_mode": {
    "name": "ipython",
    "version": 3
   },
   "file_extension": ".py",
   "mimetype": "text/x-python",
   "name": "python",
   "nbconvert_exporter": "python",
   "pygments_lexer": "ipython3",
   "version": "3.7.3"
  }
 },
 "nbformat": 4,
 "nbformat_minor": 2
}
